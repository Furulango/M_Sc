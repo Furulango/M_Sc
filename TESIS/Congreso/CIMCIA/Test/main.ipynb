{
 "cells": [
  {
   "cell_type": "code",
   "execution_count": null,
   "id": "ea481d74",
   "metadata": {},
   "outputs": [],
   "source": []
  },
  {
   "cell_type": "code",
   "execution_count": 2,
   "id": "7d477e37",
   "metadata": {},
   "outputs": [],
   "source": [
    "#Check csv data\n",
    "import numpy as np\n",
    "import pandas as pd\n"
   ]
  },
  {
   "cell_type": "code",
   "execution_count": null,
   "id": "5949e0fb",
   "metadata": {},
   "outputs": [
    {
     "data": {
      "text/plain": [
       "Index(['scenario', 'phase', 'run', 'cost', 'error', 'time', 'identified_rs',\n",
       "       'identified_rr', 'identified_Lls', 'identified_Llr', 'identified_Lm',\n",
       "       'identified_J', 'identified_B', 'true_rs', 'true_rr', 'true_Lls',\n",
       "       'true_Llr', 'true_Lm', 'true_J', 'true_B', 'error_rs', 'error_rr',\n",
       "       'error_Lls', 'error_Llr', 'error_Lm', 'error_J', 'error_B'],\n",
       "      dtype='object')"
      ]
     },
     "execution_count": 5,
     "metadata": {},
     "output_type": "execute_result"
    }
   ],
   "source": [
    "# Load the CSV file\n",
    "df = pd.read_csv('BFO_adaptive_results.csv')\n",
    "\n",
    "# Display the name of the columns\n",
    "df.columns\n"
   ]
  },
  {
   "cell_type": "code",
   "execution_count": 13,
   "id": "5ab00eab",
   "metadata": {},
   "outputs": [
    {
     "name": "stdout",
     "output_type": "stream",
     "text": [
      "   identified_rs   true_rs  error_rs  true_error\n",
      "0       2.408416  2.584426  6.810424    6.810410\n",
      "1       2.434606  2.584426  5.797036    5.797032\n",
      "2       2.560771  2.584426  0.915302    0.915290\n",
      "3       2.363258  2.584426  8.557739    8.557722\n",
      "4       2.430518  2.584426  5.955214    5.955210\n"
     ]
    },
    {
     "name": "stderr",
     "output_type": "stream",
     "text": [
      "C:\\Users\\gumev\\AppData\\Local\\Temp\\ipykernel_13496\\1805917996.py:5: SettingWithCopyWarning: \n",
      "A value is trying to be set on a copy of a slice from a DataFrame.\n",
      "Try using .loc[row_indexer,col_indexer] = value instead\n",
      "\n",
      "See the caveats in the documentation: https://pandas.pydata.org/pandas-docs/stable/user_guide/indexing.html#returning-a-view-versus-a-copy\n",
      "  data[\"true_error\"] = true_error\n"
     ]
    }
   ],
   "source": [
    "data = df[[\"identified_rs\", \"true_rs\", \"error_rs\"]]\n",
    "\n",
    "true_error = abs(data[\"true_rs\"].values - data[\"identified_rs\"].values) / data[\"true_rs\"].values * 100\n",
    "# Add true error to the data frame named data\n",
    "data[\"true_error\"] = true_error\n",
    "\n",
    "print(data.head())\n",
    "\n"
   ]
  }
 ],
 "metadata": {
  "kernelspec": {
   "display_name": "M_SC",
   "language": "python",
   "name": "python3"
  },
  "language_info": {
   "codemirror_mode": {
    "name": "ipython",
    "version": 3
   },
   "file_extension": ".py",
   "mimetype": "text/x-python",
   "name": "python",
   "nbconvert_exporter": "python",
   "pygments_lexer": "ipython3",
   "version": "3.9.21"
  }
 },
 "nbformat": 4,
 "nbformat_minor": 5
}
